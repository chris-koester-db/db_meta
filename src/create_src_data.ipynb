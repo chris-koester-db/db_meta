{
 "cells": [
  {
   "cell_type": "markdown",
   "metadata": {
    "application/vnd.databricks.v1+cell": {
     "cellMetadata": {
      "byteLimit": 2048000,
      "rowLimit": 10000
     },
     "inputWidgets": {},
     "nuid": "f9c56187-1eaa-41ec-8c8b-ad5b0b0ed85c",
     "showTitle": false,
     "tableResultSettingsMap": {},
     "title": ""
    }
   },
   "source": [
    "## Create Synthetic Source Data "
   ]
  },
  {
   "cell_type": "code",
   "execution_count": 0,
   "metadata": {
    "application/vnd.databricks.v1+cell": {
     "cellMetadata": {
      "byteLimit": 2048000,
      "rowLimit": 10000
     },
     "inputWidgets": {},
     "nuid": "fed78c7b-0eaa-4969-a9cd-f0a9d14bd0b7",
     "showTitle": false,
     "tableResultSettingsMap": {},
     "title": ""
    }
   },
   "outputs": [],
   "source": [
    "%pip install dbldatagen==0.4.0.post1"
   ]
  },
  {
   "cell_type": "code",
   "execution_count": 0,
   "metadata": {
    "application/vnd.databricks.v1+cell": {
     "cellMetadata": {
      "byteLimit": 2048000,
      "rowLimit": 10000
     },
     "inputWidgets": {},
     "nuid": "879dae50-0d83-478a-b339-646211bfeb2b",
     "showTitle": false,
     "tableResultSettingsMap": {},
     "title": ""
    }
   },
   "outputs": [],
   "source": [
    "import dbldatagen as dg"
   ]
  },
  {
   "cell_type": "code",
   "execution_count": 0,
   "metadata": {
    "application/vnd.databricks.v1+cell": {
     "cellMetadata": {
      "byteLimit": 2048000,
      "rowLimit": 10000
     },
     "inputWidgets": {},
     "nuid": "ba4bc15f-370c-4237-ae4f-396200b96545",
     "showTitle": false,
     "tableResultSettingsMap": {},
     "title": ""
    }
   },
   "outputs": [],
   "source": [
    "dbutils.widgets.text(\"catalog\", \"\", \"01 Catalog\")\n",
    "dbutils.widgets.text(\"schema\", \"\", \"02 Schema\")\n",
    "dbutils.widgets.dropdown('data_source_loc', 'delta', ['delta', 'cloudFiles'], '02 Data Source Location')"
   ]
  },
  {
   "cell_type": "code",
   "execution_count": 0,
   "metadata": {
    "application/vnd.databricks.v1+cell": {
     "cellMetadata": {
      "byteLimit": 2048000,
      "rowLimit": 10000
     },
     "inputWidgets": {},
     "nuid": "627ddbb7-a414-48b8-9fef-8ab1b98a11bb",
     "showTitle": true,
     "tableResultSettingsMap": {},
     "title": "Create Dataspec for Data Generator"
    }
   },
   "outputs": [],
   "source": [
    "# https://databrickslabs.github.io/dbldatagen/public_docs/generating_cdc_data.html\n",
    "\n",
    "def create_dataspec(row_count, partitions):\n",
    "    partitions_requested = partitions\n",
    "    data_rows = row_count\n",
    "    spark.conf.set(\"spark.sql.shuffle.partitions\", \"auto\")\n",
    "    uniqueCustomers = row_count\n",
    "\n",
    "    dataspec = (\n",
    "        dg.DataGenerator(\n",
    "            spark,\n",
    "            rows=data_rows,\n",
    "            partitions=partitions_requested,\n",
    "            randomSeedMethod=\"hash_fieldname\",\n",
    "        )\n",
    "        .withIdOutput()\n",
    "        .withColumn(\"str1\", \"string\", template=r\"\\\\w\")\n",
    "        .withColumn(\"str2\", \"string\", template=r\"\\\\w\")\n",
    "        .withColumn(\n",
    "            \"event_date\",\n",
    "            \"date\",\n",
    "            begin=\"2020-01-01\",\n",
    "            end=\"2022-12-31\",\n",
    "            interval=\"1 day\",\n",
    "            random=True,\n",
    "        )\n",
    "    )\n",
    "\n",
    "    return dataspec"
   ]
  },
  {
   "cell_type": "code",
   "execution_count": 0,
   "metadata": {
    "application/vnd.databricks.v1+cell": {
     "cellMetadata": {
      "byteLimit": 2048000,
      "rowLimit": 10000
     },
     "inputWidgets": {},
     "nuid": "8f301d59-3fbb-4c9f-807c-7f3a309e81fc",
     "showTitle": false,
     "tableResultSettingsMap": {},
     "title": ""
    }
   },
   "outputs": [],
   "source": [
    "catalog = dbutils.widgets.get('catalog')\n",
    "schema = dbutils.widgets.get('schema')\n",
    "\n",
    "spark.sql(f'use catalog {catalog}')\n",
    "spark.sql(f'create schema if not exists {schema}')\n",
    "\n",
    "# Set partitions to 1x or 2x number of cores\n",
    "dataspec = create_dataspec(row_count=1_000_000, partitions=32)\n",
    "dataspec.build().createOrReplaceTempView('src_vw')"
   ]
  },
  {
   "cell_type": "code",
   "execution_count": 0,
   "metadata": {
    "application/vnd.databricks.v1+cell": {
     "cellMetadata": {
      "byteLimit": 2048000,
      "rowLimit": 10000
     },
     "inputWidgets": {},
     "nuid": "6a609e01-a5e4-458f-8228-69c16eaa6e71",
     "showTitle": false,
     "tableResultSettingsMap": {},
     "title": ""
    }
   },
   "outputs": [],
   "source": [
    "for i in range(8):\n",
    "    i = i + 1\n",
    "    spark.sql(f'create or replace table {schema}.src_table_{i:02d} as select * from src_vw')"
   ]
  }
 ],
 "metadata": {
  "application/vnd.databricks.v1+notebook": {
   "dashboards": [],
   "environmentMetadata": null,
   "language": "python",
   "notebookMetadata": {
    "pythonIndentUnit": 2
   },
   "notebookName": "create_src_data",
   "widgets": {
    "catalog": {
     "currentValue": "main",
     "nuid": "2316a379-983c-4e9e-a4f3-c84b5b9cbdc3",
     "typedWidgetInfo": {
      "autoCreated": false,
      "defaultValue": "",
      "label": "01 Catalog",
      "name": "catalog",
      "options": {
       "validationRegex": null,
       "widgetDisplayType": "Text"
      },
      "parameterDataType": "String"
     },
     "widgetInfo": {
      "defaultValue": "",
      "label": "01 Catalog",
      "name": "catalog",
      "options": {
       "autoCreated": null,
       "validationRegex": null,
       "widgetType": "text"
      },
      "widgetType": "text"
     }
    },
    "data_source_loc": {
     "currentValue": "delta",
     "nuid": "1ccf275b-c2d3-4826-a1ba-d6d2751dbeb0",
     "typedWidgetInfo": {
      "autoCreated": false,
      "defaultValue": "delta",
      "label": "02 Data Source Location",
      "name": "data_source_loc",
      "options": {
       "choices": [
        "delta",
        "cloudFiles"
       ],
       "fixedDomain": true,
       "multiselect": false,
       "widgetDisplayType": "Dropdown"
      },
      "parameterDataType": "String"
     },
     "widgetInfo": {
      "defaultValue": "delta",
      "label": "02 Data Source Location",
      "name": "data_source_loc",
      "options": {
       "autoCreated": null,
       "choices": [
        "delta",
        "cloudFiles"
       ],
       "widgetType": "dropdown"
      },
      "widgetType": "dropdown"
     }
    },
    "schema": {
     "currentValue": "chris_koester",
     "nuid": "23546bdf-8698-470a-90a9-ce04f1392410",
     "typedWidgetInfo": {
      "autoCreated": false,
      "defaultValue": "",
      "label": "02 Schema",
      "name": "schema",
      "options": {
       "validationRegex": null,
       "widgetDisplayType": "Text"
      },
      "parameterDataType": "String"
     },
     "widgetInfo": {
      "defaultValue": "",
      "label": "02 Schema",
      "name": "schema",
      "options": {
       "autoCreated": null,
       "validationRegex": null,
       "widgetType": "text"
      },
      "widgetType": "text"
     }
    }
   }
  },
  "kernelspec": {
   "display_name": ".venv",
   "language": "python",
   "name": "python3"
  },
  "language_info": {
   "name": "python",
   "version": "3.11.9"
  }
 },
 "nbformat": 4,
 "nbformat_minor": 0
}
